{
 "cells": [
  {
   "cell_type": "code",
   "execution_count": null,
   "id": "266017a1",
   "metadata": {},
   "outputs": [],
   "source": [
    "import pycuda.driver as cuda\n",
    "import pycuda.autoinit\n",
    "import tensorrt as trt\n",
    "from typing import List, Tuple"
   ]
  },
  {
   "cell_type": "code",
   "execution_count": null,
   "id": "dc2cf4f9",
   "metadata": {},
   "outputs": [],
   "source": [
    "def convert_onnx_to_trt_engine(onnx_file, trt_output_file, enable_int8_quantization:bool = False):\n",
    "  EXPLICIT_BATCH = 1 << int(trt.NetworkDefinitionCreationFlag.EXPLICIT_BATCH)\n",
    "\n",
    "  with trt.Builder(trt_logger) as builder, builder.create_network(EXPLICIT_BATCH) as network, builder.create_builder_config() as config:\n",
    "\n",
    "    config = builder.create_builder_config()\n",
    "    config.profiling_verbosity = trt.ProfilingVerbosity.DETAILED\n",
    "\n",
    "    if enable_int8_quantization:\n",
    "      config.set_flag(trt.BuilderFlag.INT8)\n",
    "    else:\n",
    "      config.set_flag(trt.BuilderFlag.FP16)\n",
    "\n",
    "    config.set_memory_pool_limit(trt.MemoryPoolType.WORKSPACE, 1 << 30)\n",
    "\n",
    "    # Load your ONNX model\n",
    "    with trt.OnnxParser(network, trt_logger) as onnx_parser:\n",
    "      with open(onnx_file, 'rb') as f:\n",
    "        parse_success = onnx_parser.parse(f.read())\n",
    "        if not parse_success:\n",
    "          errors = \"\\n\".join(\n",
    "              [str(onnx_parser.get_error(error)) for error in range(onnx_parser.num_errors)]\n",
    "          )\n",
    "          raise RuntimeError(f\"Failed to parse onnx model for trt conversion. Errors: \\n{errors}\")\n",
    "\n",
    "      trt_logger.log(trt.ILogger.INFO, \"Parsed ONNX model\")\n",
    "\n",
    "    # Query input names and shapes from parsed TensorRT network\n",
    "    network_inputs = [network.get_input(i) for i in range(network.num_inputs)]\n",
    "    input_names = [_input.name for _input in network_inputs]  # ex: [\"actual_input1\"]\n",
    "    for i in range(network.num_layers):\n",
    "        layer = network.get_layer(i)\n",
    "        print(f\"Layer {i}: {layer.name}, type: {layer.type}\")\n",
    "\n",
    "    assert input_names[0] == 'input'\n",
    "\n",
    "    serialized_engine = builder.build_serialized_network(network, config)\n",
    "    with open(trt_output_file, \"wb\") as output_file:\n",
    "      output_file.write(serialized_engine)\n",
    "      trt_logger.log(trt.ILogger.INFO, \"Serialization done\")"
   ]
  },
  {
   "cell_type": "code",
   "execution_count": null,
   "id": "6433bf35",
   "metadata": {},
   "outputs": [],
   "source": [
    "convert_onnx_to_trt_engine(\"yolonas_s_prep_nms_updated.onnx\",\"yolonas_s_prep_nms_updated.trt\")"
   ]
  }
 ],
 "metadata": {
  "language_info": {
   "name": "python"
  }
 },
 "nbformat": 4,
 "nbformat_minor": 5
}
